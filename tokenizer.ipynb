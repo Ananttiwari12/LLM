{
 "cells": [
  {
   "cell_type": "markdown",
   "metadata": {},
   "source": [
    "## Creating tokens"
   ]
  },
  {
   "cell_type": "code",
   "execution_count": 1,
   "metadata": {},
   "outputs": [],
   "source": [
    "with open (\"the-verdict.txt\",\"r\",encoding=\"utf-8\") as file:\n",
    "    raw_text=file.read()"
   ]
  },
  {
   "cell_type": "code",
   "execution_count": 2,
   "metadata": {},
   "outputs": [],
   "source": [
    "import re\n",
    "preprocessed= re.split(r'([,.:?_!\"()\\']|--|\\s)',raw_text)\n",
    "result= [items.strip() for items in preprocessed if items.split()]\n",
    "allwords=sorted(set(result))\n",
    "allwords.extend([\"<|unk|>\",\"<|endoftext|>\"])\n",
    "vocab= {word:index for index,word in enumerate(allwords)}"
   ]
  },
  {
   "cell_type": "code",
   "execution_count": 3,
   "metadata": {},
   "outputs": [],
   "source": [
    "class simpleTokenizer1:\n",
    "    def __init__(self, vocab):\n",
    "        self.str_to_int=vocab\n",
    "        self.int_to_str={int:str for str,int in vocab.items()}\n",
    "    \n",
    "    def encode(self, text):\n",
    "        _preprocessed= re.split(r'([,.:?_!\"()\\']|--|\\s)',text)\n",
    "        _result= [items.strip() for items in _preprocessed if items.split()]\n",
    "        return [self.str_to_int[items] for items in _result]\n",
    "    \n",
    "    def decode(self, tokens):\n",
    "        return [self.int_to_str[items] for items in tokens]            "
   ]
  },
  {
   "cell_type": "code",
   "execution_count": 4,
   "metadata": {},
   "outputs": [
    {
     "name": "stdout",
     "output_type": "stream",
     "text": [
      "[1014, 58, 39]\n",
      "['thought', 'Jack', 'Gisburn']\n"
     ]
    }
   ],
   "source": [
    "tokenizer= simpleTokenizer1(vocab)\n",
    "text=\"thought Jack Gisburn\"\n",
    "encoded= tokenizer.encode(text)\n",
    "print(encoded)\n",
    "decode= tokenizer.decode(encoded)\n",
    "print(decode)"
   ]
  },
  {
   "cell_type": "code",
   "execution_count": 5,
   "metadata": {},
   "outputs": [],
   "source": [
    "class simpleTokenizer2:\n",
    "    def __init__(self, vocab):\n",
    "        self.int_to_str={str:int for int,str in vocab.items()}\n",
    "        self.str_to_int=vocab\n",
    "        \n",
    "    def encode(self, text):\n",
    "        preprocessed= re.split(r'([.,?!_!\"()\\']|--|\\s)',text)\n",
    "        _preprocessed= [items.strip() for items in preprocessed if items.split()]\n",
    "        encoded_text= [item if item in self.str_to_int \n",
    "                       else \"<|unk|>\" for item in _preprocessed]\n",
    "        return [self.str_to_int[items] for items in encoded_text]\n",
    "    \n",
    "    def decode(self, tokens):\n",
    "        return[self.int_to_str[items] for items in tokens]\n",
    "        "
   ]
  },
  {
   "cell_type": "code",
   "execution_count": 6,
   "metadata": {},
   "outputs": [
    {
     "name": "stdout",
     "output_type": "stream",
     "text": [
      "[1143, 705, 1143, 590, 58]\n",
      "['<|unk|>', 'my', '<|unk|>', 'is', 'Jack']\n"
     ]
    }
   ],
   "source": [
    "tokenizer2= simpleTokenizer2(vocab)\n",
    "text=\"Hello my name is Jack\"\n",
    "encoded= tokenizer2.encode(text)\n",
    "print(encoded)\n",
    "decode= tokenizer2.decode(encoded)\n",
    "print(decode)"
   ]
  }
 ],
 "metadata": {
  "kernelspec": {
   "display_name": "Python 3",
   "language": "python",
   "name": "python3"
  },
  "language_info": {
   "codemirror_mode": {
    "name": "ipython",
    "version": 3
   },
   "file_extension": ".py",
   "mimetype": "text/x-python",
   "name": "python",
   "nbconvert_exporter": "python",
   "pygments_lexer": "ipython3",
   "version": "3.11.5"
  }
 },
 "nbformat": 4,
 "nbformat_minor": 2
}
